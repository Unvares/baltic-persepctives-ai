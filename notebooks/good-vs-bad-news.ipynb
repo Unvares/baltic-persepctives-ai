{
 "cells": [
  {
   "cell_type": "markdown",
   "id": "789a474f",
   "metadata": {},
   "source": [
    "# Good vs Bad News\n",
    "\n",
    "Consuming only bad news can have several detrimental effects on mental health:\n",
    "\n",
    "1. **Increased Anxiety and Stress**: Constant exposure to negative news can lead to heightened levels of anxiety and stress. This is because the human brain is wired to respond to threats, and bad news can trigger a continuous state of alertness or fear.\n",
    "\n",
    "2. **Depression**: Regular intake of negative news can contribute to feelings of hopelessness and despair, which are key features of depression. The perception that the world is overwhelmingly negative can lead to a pessimistic outlook on life.\n",
    "\n",
    "3. **Desensitization**: Overexposure to bad news can cause desensitization, where individuals become numb or indifferent to distressing events. This can diminish empathy and reduce the ability to respond compassionately to real-world issues.\n",
    "\n",
    "4. **Distorted Worldview**: Consuming only bad news can skew an individual’s perception of reality. It can create a belief that the world is more dangerous and hostile than it actually is, leading to a lack of trust in others and societal institutions.\n",
    "\n",
    "5. **Chronic Worry**: Bad news often focuses on events beyond one's control, which can result in chronic worry. This sense of helplessness can exacerbate feelings of anxiety and stress, leading to a vicious cycle of negative thoughts.\n",
    "\n",
    "6. **Physical Health Impacts**: Mental health and physical health are closely linked. Chronic stress and anxiety from constant exposure to bad news can lead to physical health problems such as headaches, digestive issues, and a weakened immune system.\n",
    "\n",
    "7. **Behavioral Changes**: The psychological effects of consuming bad news can lead to behavioral changes such as social withdrawal, reduced engagement in activities, and a reluctance to take risks or try new things.\n",
    "\n",
    "8. **Cognitive Bias**: Constant exposure to bad news can reinforce cognitive biases such as the \"negativity bias,\" where individuals are more likely to pay attention to and remember negative information. This can further perpetuate a cycle of negative thinking.\n",
    "\n",
    "To mitigate these effects, it’s important to balance news consumption with positive news and engage in activities that promote mental well-being, such as exercise, hobbies, and social interactions. Being mindful of media consumption and setting limits on exposure to distressing news can also help maintain a healthier mental state.\n",
    "\n",
    "One approach could be to search the normal news stream for bad news and, based on this, search for good news on the same topics and introduce this good news into a news stream.\n",
    "\n",
    "However, this naturally leads to the question of how to find good news and how to find bad news.\n",
    "\n",
    "But before we start, we install some libraries necessary to get this notebook working."
   ]
  },
  {
   "cell_type": "code",
   "execution_count": null,
   "id": "7f3ed9cb",
   "metadata": {},
   "outputs": [],
   "source": [
    "!pip install duckduckgo-search newspaper4k feedparser langchain-chroma langchain-huggingface"
   ]
  },
  {
   "cell_type": "markdown",
   "id": "a2b8c6d6",
   "metadata": {},
   "source": [
    "## How to find bad news?\n",
    "\n",
    "Well, it's not that difficult. For example, you could ask a language model for search terms for bad news and you'll probably get a list like this:"
   ]
  },
  {
   "cell_type": "code",
   "execution_count": null,
   "id": "a5515228",
   "metadata": {},
   "outputs": [],
   "source": [
    "bad_news_keywords = [\"terrorism\", \"hurricane\", \"wildfires\", \"deforestation\", \"climate change\", \"protests\", \"political instability\", \"corruption\"]"
   ]
  },
  {
   "cell_type": "markdown",
   "id": "faac2bd0",
   "metadata": {},
   "source": [
    "Feel free to adapt and extend this list. And then the search for bad news can begin. We simply ask the Duckduckgo search engine."
   ]
  },
  {
   "cell_type": "code",
   "execution_count": null,
   "id": "d555ebe5",
   "metadata": {},
   "outputs": [],
   "source": [
    "from duckduckgo_search import DDGS\n",
    "from tqdm.notebook import tqdm\n",
    "import newspaper\n",
    "import time\n",
    "\n",
    "for result in tqdm(DDGS().news(keywords=\" \".join(bad_news_keywords), timelimit=\"m\", max_results=20)):\n",
    "    try:\n",
    "        article = newspaper.article(result['url'])\n",
    "        if article.text.strip():\n",
    "            print(f\"# {article.title} ({article.publish_date})\")\n",
    "            print(article.url)\n",
    "            print(\"\")\n",
    "    except Exception as ex:\n",
    "        print(\"Could not process\", result['url'])"
   ]
  },
  {
   "cell_type": "markdown",
   "id": "8e956f68",
   "metadata": {},
   "source": [
    "## How to search for good news?\n",
    "\n",
    "The results are somewhat depressing. Bad news is surprisingly easy to find. Deaths, accidents and abuse are the normal news that is reported. Ask yourself. What interests you more, news about an honest politician or a corrupt one? Normality is not news. If something is going well, it's not news. If a politician is honest, it is not news. If there hasn't been an accident at the crossroads in front of the kindergarten for ten years, it's not news either. Until a child is hit by a car. Then a crossroads with excellent accident statistics becomes news and our perception immediately changes.\n",
    "\n",
    "That's a general problem; it's the market mechanism that journalism is subject to. This is how our attention economy works.\n",
    "\n",
    "In other words, finding good news is far more complicated than finding bad news. Bad news is everywhere; good news is rare. But there are news outlets that deliberately focus on providing only good news in order to break through this mechanism.\n",
    "\n",
    "If you search for \"good news\" on Google, you will find links like the following:\n",
    "\n",
    "- https://thegoodnewshub.com\n",
    "- https://goodnews.eu\n",
    "- https://www.goodnewsnetwork.org\n",
    "- https://squirrel-news.net\n",
    "- ...\n",
    "\n",
    "Again, we can search for news, but this time we limit it to positive/constructive news outlets, and since these are rare, we consider all articles in these outlets' RSS feeds."
   ]
  },
  {
   "cell_type": "code",
   "execution_count": null,
   "id": "fc7c6f80",
   "metadata": {},
   "outputs": [],
   "source": [
    "good_news_feeds = [\n",
    "    \"https://thegoodnewshub.com/feed/\",\n",
    "    \"https://thegoodnewshub.com/technology/feed/\",\n",
    "    \"https://thegoodnewshub.com/science/feed/\",\n",
    "    \"https://thegoodnewshub.com/environment/feed/\",\n",
    "    \"https://www.goodnewsnetwork.org/feed/\",\n",
    "    \"https://www.goodnewsnetwork.org/category/news/world/feed/\",\n",
    "    \"https://www.goodnewsnetwork.org/category/news/inspiring/feed/\",\n",
    "    \"https://www.goodgoodgood.co/articles/rss.xml\",\n",
    "    \"https://reasonstobecheerful.world/feed/\",\n",
    "    \"https://notallnewsisbad.com/feed/\",\n",
    "    \"https://news.janegoodall.org/feed/\",\n",
    "    \"https://www.thegoodnewsmovement.com/feed/\",\n",
    "    \"https://goodnews.eu/en/feed/\"\n",
    "]"
   ]
  },
  {
   "cell_type": "markdown",
   "id": "5f45aaec",
   "metadata": {},
   "source": [
    "And with a few Python libraries, we can download these posts. Do a little research yourself. There will probably be other sources for Good News, perhaps in your native language."
   ]
  },
  {
   "cell_type": "code",
   "execution_count": null,
   "id": "8afd4301",
   "metadata": {},
   "outputs": [],
   "source": [
    "import feedparser\n",
    "from tqdm.notebook import tqdm\n",
    "import newspaper\n",
    "\n",
    "good_news_results = { entry['link']: entry for feed in tqdm(good_news_feeds) for entry in feedparser.parse(feed).entries }\n",
    "\n",
    "texts = []\n",
    "for url, result in tqdm(good_news_results.items()):\n",
    "    try:\n",
    "        article = newspaper.article(url)\n",
    "        if article.text.strip():\n",
    "            texts.append(f\"**[{article.title}]({article.url}) ({article.publish_date})**\\n{article.text}\")\n",
    "    except Exception as ex:\n",
    "        print(\"Could not process\", url, ex)"
   ]
  },
  {
   "cell_type": "markdown",
   "id": "9e290e52",
   "metadata": {},
   "source": [
    "And so we crawled a small database of articles that deal intentionally with good news. We can just hand out five random articles."
   ]
  },
  {
   "cell_type": "code",
   "execution_count": null,
   "id": "69060a8f",
   "metadata": {},
   "outputs": [],
   "source": [
    "import random\n",
    "\n",
    "for txt in random.sample(texts, 5):\n",
    "    print(txt[0:500], \"...\")\n",
    "    print()"
   ]
  },
  {
   "cell_type": "markdown",
   "id": "74ad3a3a",
   "metadata": {},
   "source": [
    "And we can import this database into a vector store to make it semantically searchable."
   ]
  },
  {
   "cell_type": "code",
   "execution_count": null,
   "id": "771e5fb4",
   "metadata": {},
   "outputs": [],
   "source": [
    "import os\n",
    "from langchain_openai import OpenAIEmbeddings\n",
    "from langchain_chroma import Chroma\n",
    "from langchain_huggingface.embeddings import HuggingFaceEndpointEmbeddings\n",
    "from tqdm.notebook import tqdm\n",
    "\n",
    "embeddings = HuggingFaceEndpointEmbeddings(model=\"https://bge-m3-embedding.llm.mylab.th-luebeck.dev\")\n",
    "\n",
    "print(f\"Building semantic index for {len(texts)} articles on good news ...\")\n",
    "vectorstore = Chroma(\"good_news_store\", embeddings)\n",
    "for t in tqdm(texts):\n",
    "    try:\n",
    "        vectorstore.add_texts([t])\n",
    "    except Exception as ex:\n",
    "        print(\"Could not index\", t[0:250], \"...\", ex)"
   ]
  },
  {
   "cell_type": "markdown",
   "id": "d8455010",
   "metadata": {},
   "source": [
    "And then, we can use this vector store, for example, to search for good news on terms that tend to have a \"bad reputation\"."
   ]
  },
  {
   "cell_type": "code",
   "execution_count": null,
   "id": "8e665e89",
   "metadata": {},
   "outputs": [],
   "source": [
    "good_news_search = vectorstore.as_retriever()\n",
    "hits = good_news_search.invoke(\"US Adults Tend To Link Wildfires to Climate Change, But Not Hurricanes\")\n",
    "hits"
   ]
  },
  {
   "cell_type": "markdown",
   "id": "f864eff6",
   "metadata": {},
   "source": [
    "Great it works."
   ]
  },
  {
   "cell_type": "markdown",
   "id": "fd4b91d6",
   "metadata": {},
   "source": [
    "## A simple Bad News vs Good News search engine\n",
    "\n",
    "And thanks to our semantically searchable database, we can now compare and contrast hits from \"normal search engines\" with hits from our Good News database for search terms. It's easier than you might think."
   ]
  },
  {
   "cell_type": "code",
   "execution_count": null,
   "id": "4041a32f",
   "metadata": {},
   "outputs": [],
   "source": [
    "from duckduckgo_search import DDGS\n",
    "from ipywidgets import interact_manual\n",
    "import ipywidgets as widgets\n",
    "from IPython.display import Markdown, display\n",
    "\n",
    "# Interactive function to search for news\n",
    "@interact_manual(\n",
    "    keywords=widgets.Text(value='climate change', description='Search terms:', layout=widgets.Layout(width='75%'))\n",
    ")\n",
    "def search(keywords):\n",
    "    display(Markdown(f\"# Search engine news on '{keywords}'\\n\\n\"))\n",
    "\n",
    "    content = []\n",
    "    for result in DDGS().news(keywords=keywords, timelimit=\"m\", max_results=5):\n",
    "        display(Markdown(f\"- **[{result['title']}]({result['url']})** ({result['date']})\\n{result['body']}\"))\n",
    "        content.append(result['body'])\n",
    "\n",
    "    display(Markdown(f\"# Related Good news on '{keywords}'\\n\\n\"))\n",
    "    for doc in good_news_search.invoke(\"\\n\".join(content)):\n",
    "        display(Markdown(f\"- {doc.page_content}\"))"
   ]
  },
  {
   "cell_type": "markdown",
   "id": "68058b8c",
   "metadata": {},
   "source": [
    "## And now?\n",
    "\n",
    "We have seen that we can easily search the internet for news and that this news tends to be 'bad' or focused on deficits. However, we can just as easily search for news from outlets that focus on positive and constructive news.\n",
    "\n",
    "Here are some questions that can serve as a starting point for developing project ideas to promote positive and constructive news and make the world a better place:\n",
    "\n",
    "1. How can we use language models to distinguish positive news sources from negative ones and suggest them to users?\n",
    "2. How could a language model be used to put negative news in a positive context without distorting reality?\n",
    "3. How can we develop a system that aggregates both positive and negative news and then suggests constructive solutions or courses of action?\n",
    "4. How can we inspire and motivate people by regularly presenting them with positive stories and success stories?\n",
    "5. How can we develop a system that analyses news in real time and encourages constructive discussion on social media?\n",
    "\n",
    "These questions can serve as a starting point for those who want to develop innovative solutions to make the world a better place through language modelling and positive reporting.\n",
    "\n",
    "Great. We hope this notebook has helped you to understand how language models could be used to spread good news a bit more cleverly.\n",
    "If you have any questions, please do not hesitate to ask them. Our staff will see what we can do.\n",
    "\n",
    "<img src=\"https://mylab.th-luebeck.de/images/mylab-logo-without.png\" width=200px>"
   ]
  },
  {
   "cell_type": "code",
   "execution_count": null,
   "id": "21322024",
   "metadata": {},
   "outputs": [],
   "source": []
  }
 ],
 "metadata": {
  "kernelspec": {
   "display_name": "Python 3 (ipykernel)",
   "language": "python",
   "name": "python3"
  },
  "language_info": {
   "codemirror_mode": {
    "name": "ipython",
    "version": 3
   },
   "file_extension": ".py",
   "mimetype": "text/x-python",
   "name": "python",
   "nbconvert_exporter": "python",
   "pygments_lexer": "ipython3",
   "version": "3.11.8"
  }
 },
 "nbformat": 4,
 "nbformat_minor": 5
}
