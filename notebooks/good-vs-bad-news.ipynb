{
 "cells": [
  {
   "cell_type": "markdown",
   "id": "f0160735-ac86-4fa3-ae5e-bb242ff7fcc8",
   "metadata": {},
   "source": [
    "# Good vs Bad News\n",
    "\n",
    "Consuming only bad news can have several detrimental effects on mental health:\n",
    "\n",
    "1. **Increased Anxiety and Stress**: Constant exposure to negative news can lead to heightened levels of anxiety and stress. This is because the human brain is wired to respond to threats, and bad news can trigger a continuous state of alertness or fear.\n",
    "\n",
    "2. **Depression**: Regular intake of negative news can contribute to feelings of hopelessness and despair, which are key features of depression. The perception that the world is overwhelmingly negative can lead to a pessimistic outlook on life.\n",
    "\n",
    "3. **Desensitization**: Overexposure to bad news can cause desensitization, where individuals become numb or indifferent to distressing events. This can diminish empathy and reduce the ability to respond compassionately to real-world issues.\n",
    "\n",
    "4. **Distorted Worldview**: Consuming only bad news can skew an individual’s perception of reality. It can create a belief that the world is more dangerous and hostile than it actually is, leading to a lack of trust in others and societal institutions.\n",
    "\n",
    "5. **Chronic Worry**: Bad news often focuses on events beyond one's control, which can result in chronic worry. This sense of helplessness can exacerbate feelings of anxiety and stress, leading to a vicious cycle of negative thoughts.\n",
    "\n",
    "6. **Physical Health Impacts**: Mental health and physical health are closely linked. Chronic stress and anxiety from constant exposure to bad news can lead to physical health problems such as headaches, digestive issues, and a weakened immune system.\n",
    "\n",
    "7. **Behavioral Changes**: The psychological effects of consuming bad news can lead to behavioral changes such as social withdrawal, reduced engagement in activities, and a reluctance to take risks or try new things.\n",
    "\n",
    "8. **Cognitive Bias**: Constant exposure to bad news can reinforce cognitive biases such as the \"negativity bias,\" where individuals are more likely to pay attention to and remember negative information. This can further perpetuate a cycle of negative thinking.\n",
    "\n",
    "To mitigate these effects, it’s important to balance news consumption with positive news and engage in activities that promote mental well-being, such as exercise, hobbies, and social interactions. Being mindful of media consumption and setting limits on exposure to distressing news can also help maintain a healthier mental state.\n",
    "\n",
    "One approach could be to search the normal news stream for bad news and, based on this, search for good news on the same topics and introduce this good news into a news stream.\n",
    "\n",
    "However, this naturally leads to the question of how to find good news and how to find bad news.\n",
    "\n",
    "But before we start, we install some libraries necessary to get this notebook working."
   ]
  },
  {
   "cell_type": "code",
   "execution_count": null,
   "id": "5d13a30f-cc68-4e17-a3af-975eec492375",
   "metadata": {},
   "outputs": [],
   "source": [
    "!pip install duckduckgo-search newspaper4k feedparser langchain-chroma langchain-openai"
   ]
  },
  {
   "cell_type": "markdown",
   "id": "4cf47ebe-2991-455f-8825-f2e9f2591188",
   "metadata": {},
   "source": [
    "## How to find (bad) news?\n",
    "\n",
    "Well, it's not that difficult. For example, you could ask a language model for search terms for bad news and you'll probably get a list like this:"
   ]
  },
  {
   "cell_type": "code",
   "execution_count": null,
   "id": "05b8289f-0df5-469c-a9fb-0679e1fdb154",
   "metadata": {},
   "outputs": [],
   "source": [
    "bad_news_keywords = [\"terrorism\", \"hurricane\", \"wildfires\", \"deforestation\", \"climate change\", \"protests\", \"political instability\", \"corruption\"]"
   ]
  },
  {
   "cell_type": "markdown",
   "id": "6c5ec4a1-ab2d-4b97-95f4-92cb637ba1c1",
   "metadata": {},
   "source": [
    "And then the search for bad news can begin. We simply ask the Duckduckgo search engine."
   ]
  },
  {
   "cell_type": "code",
   "execution_count": null,
   "id": "499f54e9-1e03-4d96-ab44-e93130e90adf",
   "metadata": {},
   "outputs": [],
   "source": [
    "from duckduckgo_search import DDGS\n",
    "from tqdm.notebook import tqdm\n",
    "import newspaper\n",
    "\n",
    "for result in DDGS().news(keywords=\" \".join(bad_news_keywords), timelimit=\"m\", max_results=20):\n",
    "    try:\n",
    "        article = newspaper.article(result['url'])\n",
    "        if article.text.strip():\n",
    "            print(f\"# {article.title} ({article.publish_date})\")\n",
    "            print(article.url)\n",
    "            print(\"\")\n",
    "    except Exception as ex:\n",
    "        print(\"Could not process\", result['url'])"
   ]
  },
  {
   "cell_type": "markdown",
   "id": "ab9d4a01-35c7-48d7-97e1-716a465b4099",
   "metadata": {},
   "source": [
    "## How to search for good news?\n",
    "\n",
    "The results are somewhat depressing. Bad news is surprisingly easy to find. Deaths, accidents and abuse are the normal news that is reported. Ask yourself. What interests you more, news about an honest politician or a corrupt one? Normality is not news. If something is going well, it's not news. If a politician is honest, it is not news. If there hasn't been an accident at the crossroads in front of the kindergarten for ten years, it's not news either. Until a child is hit by a car. Then a crossroads with excellent accident statistics becomes news and our perception immediately changes.\n",
    "\n",
    "That's a general problem; it's the market mechanism that journalism is subject to. This is how our attention economy works.\n",
    "\n",
    "In other words, finding good news is far more complicated than finding bad news. Bad news is everywhere; good news is rare. But there are news outlets that deliberately focus on providing only good news in order to break through this mechanism.\n",
    "\n",
    "If you search for \"good news\" on Google, you will find links like the following:\n",
    "\n",
    "- https://thegoodnewshub.com\n",
    "- https://goodnews.eu\n",
    "- https://www.goodnewsnetwork.org\n",
    "- https://squirrel-news.net\n",
    "- ...\n",
    "\n",
    "Again, we can search for news, but this time we limit it to positive/constructive news outlets, and since these are rare, we consider all articles in these outlets' RSS feeds."
   ]
  },
  {
   "cell_type": "code",
   "execution_count": null,
   "id": "ca660cda-e20f-4483-9259-6eff1e9ddd06",
   "metadata": {},
   "outputs": [],
   "source": [
    "good_news_feeds = [\n",
    "    \"https://thegoodnewshub.com/feed/\",\n",
    "    \"https://thegoodnewshub.com/technology/feed/\",\n",
    "    \"https://thegoodnewshub.com/science/feed/\",\n",
    "    \"https://thegoodnewshub.com/environment/feed/\",\n",
    "    \"https://www.goodnewsnetwork.org/feed/\",\n",
    "    \"https://www.goodnewsnetwork.org/category/news/world/feed/\",\n",
    "    \"https://www.goodnewsnetwork.org/category/news/inspiring/feed/\",\n",
    "    \"https://www.goodgoodgood.co/articles/rss.xml\",\n",
    "    \"https://reasonstobecheerful.world/feed/\",\n",
    "    \"https://notallnewsisbad.com/feed/\",\n",
    "    \"https://news.janegoodall.org/feed/\",\n",
    "    \"https://www.thegoodnewsmovement.com/feed/\",\n",
    "]"
   ]
  },
  {
   "cell_type": "markdown",
   "id": "1e21261f-6294-415d-9e09-337f3c3366af",
   "metadata": {},
   "source": [
    "And with a few Python libraries, we can download these posts. Do a little research yourself. There will probably be other sources for Good News, perhaps in your native language."
   ]
  },
  {
   "cell_type": "code",
   "execution_count": null,
   "id": "44722870-e243-471e-a7a4-3b2e22d6119c",
   "metadata": {},
   "outputs": [],
   "source": [
    "import feedparser\n",
    "from tqdm.notebook import tqdm\n",
    "import newspaper\n",
    "\n",
    "good_news_results = { entry['link']: entry for feed in tqdm(good_news_feeds) for entry in feedparser.parse(feed).entries }\n",
    "\n",
    "texts = []\n",
    "for url, result in tqdm(good_news_results.items()):\n",
    "    try:\n",
    "        article = newspaper.article(url)\n",
    "        if article.text.strip():\n",
    "            texts.append(f\"**[{article.title}]({article.url}) ({article.publish_date})**\\n{article.text}\")\n",
    "    except Exception as ex:\n",
    "        print(\"Could not process\", url, ex)"
   ]
  },
  {
   "cell_type": "markdown",
   "id": "fc2d5e95-8ec6-403e-bd57-440f79945208",
   "metadata": {},
   "source": [
    "And so we can crawl a small database of articles that deal with good news. We can just hand out five random ones."
   ]
  },
  {
   "cell_type": "code",
   "execution_count": null,
   "id": "49a59ffe-5bd5-4423-8a98-9839744d32f1",
   "metadata": {},
   "outputs": [],
   "source": [
    "import random\n",
    "\n",
    "for txt in random.sample(texts, 5):\n",
    "    print(txt[0:500], \"...\")\n",
    "    print()"
   ]
  },
  {
   "cell_type": "markdown",
   "id": "73e1cdd9-bfa9-49c7-a90d-feb4a877b204",
   "metadata": {},
   "source": [
    "And we can import this database into a vector store to make it semantically searchable."
   ]
  },
  {
   "cell_type": "code",
   "execution_count": null,
   "id": "c3f4a6f3-6f41-44b5-8c8e-49f6fe6591db",
   "metadata": {},
   "outputs": [],
   "source": [
    "import os\n",
    "from langchain_openai import OpenAIEmbeddings\n",
    "from langchain_chroma import Chroma\n",
    "from tqdm.notebook import tqdm\n",
    "\n",
    "embeddings = OpenAIEmbeddings(api_key=os.environ.get(\"OPENAI_API_KEY\", \"-\"))\n",
    "\n",
    "print(f\"Building semantic index for {len(texts)} articles on good news ...\")\n",
    "vectorstore = Chroma(\"good_news_store\", embeddings)\n",
    "for t in tqdm(texts):\n",
    "    try:\n",
    "        vectorstore.add_texts([t])\n",
    "    except Exception as ex:\n",
    "        print(\"Could not index\", t[0:250], \"...\", ex)"
   ]
  },
  {
   "cell_type": "markdown",
   "id": "87b4a7ca-3e78-40a8-91c5-b7527fb4b750",
   "metadata": {},
   "source": [
    "And we can use this Vectorstore, for example, to search for good news on terms that tend to have a \"bad reputation\"."
   ]
  },
  {
   "cell_type": "code",
   "execution_count": null,
   "id": "d7a12f41-82e7-4db2-b51f-747634d0bd98",
   "metadata": {},
   "outputs": [],
   "source": [
    "good_news_search = vectorstore.as_retriever()\n",
    "hits = good_news_search.invoke(\"Show me good news on wind energy\")\n",
    "hits"
   ]
  },
  {
   "cell_type": "markdown",
   "id": "d339aa30-a700-4ba9-b0a5-76ab98ff0702",
   "metadata": {},
   "source": [
    "Great it works."
   ]
  },
  {
   "cell_type": "markdown",
   "id": "07ffbfaf-ecd3-4584-acce-a88f330c60cd",
   "metadata": {},
   "source": [
    "## A simple Bad News vs Good News search engine\n",
    "\n",
    "And thanks to our semantically searchable database, we can now compare and contrast hits from \"normal search engines\" with hits from our Good News database for search terms. It's easier than you might think."
   ]
  },
  {
   "cell_type": "code",
   "execution_count": null,
   "id": "dd1c36ab-c8d3-4f7b-afa2-d62c5cb56fde",
   "metadata": {},
   "outputs": [],
   "source": [
    "from duckduckgo_search import DDGS\n",
    "from ipywidgets import interact_manual\n",
    "import ipywidgets as widgets\n",
    "from IPython.display import Markdown, display\n",
    "\n",
    "# Interactive function to search for news\n",
    "@interact_manual(\n",
    "    keywords=widgets.Text(value='climate change', description='Search terms:', layout=widgets.Layout(width='75%'))\n",
    ")\n",
    "def search(keywords):\n",
    "    display(Markdown(f\"# Search engine news on '{keywords}'\\n\\n\"))\n",
    "    for result in DDGS().news(keywords=keywords, timelimit=\"m\", max_results=5):\n",
    "        display(Markdown(f\"- **[{result['title']}]({result['url']})** ({result['date']})\\n{result['body']}\"))\n",
    "\n",
    "    display(Markdown(f\"# Good news on '{keywords}'\\n\\n\"))\n",
    "    for doc in good_news_search.invoke(keywords):\n",
    "        display(Markdown(f\"- {doc.page_content[0:500]} ...\"))"
   ]
  },
  {
   "cell_type": "markdown",
   "id": "1cd90169-8ef7-44f2-ab83-937063ce492e",
   "metadata": {},
   "source": [
    "## And now?\n",
    "\n",
    "We have seen that we can easily search the internet for news and that this news tends to be 'bad' or focused on deficits. However, we can just as easily search for news from outlets that focus on positive and constructive news.\n",
    "\n",
    "Here are some questions that can serve as a starting point for developing project ideas to promote positive and constructive news and make the world a better place:\n",
    "\n",
    "1. How can we use language models to distinguish positive news sources from negative ones and suggest them to users?\n",
    "2. How could a language model be used to put negative news in a positive context without distorting reality?\n",
    "3. How can we develop a system that aggregates both positive and negative news and then suggests constructive solutions or courses of action?\n",
    "4. How can we inspire and motivate people by regularly presenting them with positive stories and success stories?\n",
    "5. How can we develop a system that analyses news in real time and encourages constructive discussion on social media?\n",
    "\n",
    "These questions can serve as a starting point for those who want to develop innovative solutions to make the world a better place through language modelling and positive reporting."
   ]
  },
  {
   "cell_type": "code",
   "execution_count": null,
   "id": "6a49f330-4215-4845-9ecd-ebcc86e0188d",
   "metadata": {},
   "outputs": [],
   "source": []
  }
 ],
 "metadata": {
  "kernelspec": {
   "display_name": "Python 3 (ipykernel)",
   "language": "python",
   "name": "python3"
  },
  "language_info": {
   "codemirror_mode": {
    "name": "ipython",
    "version": 3
   },
   "file_extension": ".py",
   "mimetype": "text/x-python",
   "name": "python",
   "nbconvert_exporter": "python",
   "pygments_lexer": "ipython3",
   "version": "3.11.8"
  }
 },
 "nbformat": 4,
 "nbformat_minor": 5
}
