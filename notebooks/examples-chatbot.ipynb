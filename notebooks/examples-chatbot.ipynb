{
 "cells": [
  {
   "cell_type": "markdown",
   "id": "87197cd0-f53c-4d05-8259-491a7bf480f5",
   "metadata": {},
   "source": [
    "# Examples from the chatbot video\n",
    "\n",
    "Here you will find all examples from the [chatbot video](https://youtu.be/Fz3aux9CxDM) in the order in which they occur in the video.\n",
    "\n",
    "<div class=\"alert alert-block alert-info\">\n",
    "\n",
    "**Info:**\n",
    "The Streamlit example is not included in this notebook because it is not executable in Jupyter notebooks. You can find this example in the `../chatbot` directory.\n",
    "</div>\n",
    "\n",
    "## Install necessary libraries\n",
    "\n",
    "To run the examples, please install the following libraries first."
   ]
  },
  {
   "cell_type": "code",
   "execution_count": null,
   "id": "ad8eb84d-bff8-43a1-ad73-c4946886028c",
   "metadata": {},
   "outputs": [],
   "source": [
    "!pip install openai wikipedia-api"
   ]
  },
  {
   "cell_type": "markdown",
   "id": "7eed32bb-e72b-49b3-bc7d-fb331d4234dd",
   "metadata": {},
   "source": [
    "## Example 1: A simple translator\n",
    "\n",
    "The OpenAI API has become a de-facto standard for programmatically using language models. Many language models can be provided to be usable with an OpenAI-compatible API endpoint, making it easier for developers to switch between different kind of language models.\n",
    "The API provides a flexible and scalable way to integrate language models into a wide range of applications.\n",
    "\n",
    "In this example, we use this library to generate translations of texts.\n",
    "\n",
    "<div class=\"alert alert-block alert-warning\">\n",
    "\n",
    "**Transfer:**\n",
    "\n",
    "Try to adapt the code and translate texts from or into your native language.\n",
    "</div>"
   ]
  },
  {
   "cell_type": "code",
   "execution_count": null,
   "id": "2e5f6c35-78d1-428e-bf84-4bf6f4eb92ae",
   "metadata": {
    "tags": []
   },
   "outputs": [],
   "source": [
    "from openai import OpenAI\n",
    "\n",
    "client = OpenAI(base_url=\"https://chat-default.llm.mylab.th-luebeck.dev/v1\", api_key=\"-\")\n",
    "\n",
    "chat_completion = client.chat.completions.create(\n",
    "    # Prompt (sequence of system-, user-, and ai-messages)\n",
    "    messages=[{ \n",
    "        \"role\": \"system\", \n",
    "        \"content\": \"You translate texts into English.\" \n",
    "    }, {\n",
    "        \"role\": \"user\", \n",
    "        \"content\": \"Lübeck ist die Königin der Hanse.\"\n",
    "    }],\n",
    "    model=\"\", stream=True, max_tokens=1024 # Parameters\n",
    ")\n",
    "\n",
    "for message in chat_completion:\n",
    "    if not message.choices[0].finish_reason:\n",
    "        print(message.choices[0].delta.content, end='')"
   ]
  },
  {
   "cell_type": "markdown",
   "id": "36f569ce-19dd-472c-9e72-9181fb32effc",
   "metadata": {},
   "source": [
    "### Make your translator interactive\n",
    "\n",
    "`ipywidgets` is a Python library that provides interactive HTML widgets for Jupyter notebooks, allowing users to create interactive user interfaces within the notebook environment. It enables real-time interaction with Python code through sliders, buttons, text inputs, and other GUI elements, enhancing the interactivity and visualization of data and computations.\n",
    "\n",
    "We now use this to make the above code more interactive.\n",
    "\n",
    "<div class=\"alert alert-block alert-warning\">\n",
    "\n",
    "**Transfer:**\n",
    "\n",
    "Also try to make the system message enterable. In this way, you can realise any functionalities you want. For example, a spelling correction or to explain texts for five-year-olds.\n",
    "\n",
    "**Tip:** You can define several parameters in `@interact()`, e.g. `@interact(system=..., prompt=...)`.\n",
    "</div>"
   ]
  },
  {
   "cell_type": "code",
   "execution_count": null,
   "id": "a03e6984-0b20-4060-be64-4f29c46c47eb",
   "metadata": {},
   "outputs": [],
   "source": [
    "from ipywidgets import interact\n",
    "import ipywidgets as widgets\n",
    "\n",
    "from openai import OpenAI\n",
    "\n",
    "# Initialize OpenAI client\n",
    "client = OpenAI(base_url=\"https://chat-large.llm.mylab.th-luebeck.dev/v1\", api_key=\"-\")\n",
    "\n",
    "# Interactive function to translate text\n",
    "@interact(\n",
    "    prompt=widgets.Textarea(value='Lübeck ist die Königin der Hanse.', description='Prompt:', layout=widgets.Layout(width='75%', height='100px'))\n",
    ")\n",
    "def translate(prompt):\n",
    "    chat_completion = client.chat.completions.create(\n",
    "        messages=[\n",
    "            {\"role\": \"system\", \"content\": \"You translate texts into English.\"},\n",
    "            {\"role\": \"user\", \"content\": prompt}\n",
    "        ],\n",
    "        model=\"\", stream=True, max_tokens=1024\n",
    "    )\n",
    "    print(\"Generated output:\")\n",
    "    for message in chat_completion:\n",
    "        if not message.choices[0].finish_reason:\n",
    "            print(message.choices[0].delta.content, end='')"
   ]
  },
  {
   "cell_type": "markdown",
   "id": "b01268b1-35b4-4e45-bc3f-2ce44cf7e7ad",
   "metadata": {
    "tags": []
   },
   "source": [
    "## Example 2: Generate a touristic summary from Wikipedia\n",
    "\n",
    "Next challenge. You're new in town and have forgotten your travel guide. But you know Wikipedia, although the articles are always too long and kind of boring. However, Wikipedia articles in the local language are usually full of good information and free to use. After all, locals know their cities best. Let's take advantage of this and write a really short travel guide.\n",
    "\n",
    "We start with the last translation example and ask ourselves how we can adapt it. The problem is actually the same from the point of view of the language model. Text in - text out.\n",
    "\n",
    "We just need to change the prompts a bit and, of course, access the data on Wikipedia.\n",
    "\n",
    "<div class=\"alert alert-block alert-warning\">\n",
    "\n",
    "**Transfer:**\n",
    "\n",
    "Try customising the code and using Wikipedia in your native language to create a summary of your capital city or hometown.\n",
    "</div>"
   ]
  },
  {
   "cell_type": "code",
   "execution_count": null,
   "id": "74671e07-575b-422c-b60b-fafdf6496287",
   "metadata": {},
   "outputs": [],
   "source": [
    "from openai import OpenAI\n",
    "import wikipediaapi\n",
    "\n",
    "client = OpenAI(base_url=\"https://chat-large.llm.mylab.th-luebeck.dev/v1\", api_key=\"-\")\n",
    "\n",
    "wikipedia = wikipediaapi.Wikipedia('python-agent', 'de')\n",
    "page = wikipedia.page('Lübeck')\n",
    "\n",
    "chat_completion = client.chat.completions.create(\n",
    "    messages=[\n",
    "       { \"role\": \"system\", \"content\": \"Summarize touristic facts from texts for English tourist guides.\" },\n",
    "       { \"role\": \"user\", \"content\": page.text[0:10000] }\n",
    "    ],\n",
    "    model=\"\", stream=True, max_tokens=1024\n",
    ")\n",
    "\n",
    "for message in chat_completion:\n",
    "    if not message.choices[0].finish_reason:\n",
    "        print(message.choices[0].delta.content, end='')\n",
    "\n",
    "print(f\"\\n\\nOriginal text: {page.text[0:2500]}...\")"
   ]
  },
  {
   "cell_type": "markdown",
   "id": "6dcde0d2-9eaf-473c-b59c-246df926cc88",
   "metadata": {},
   "source": [
    "### Make your tourist guide interactive\n",
    "\n",
    "Now let's make the city input interactive.\n",
    "\n",
    "<div class=\"alert alert-block alert-warning\">\n",
    "\n",
    "**Transfer:**\n",
    "\n",
    "Also try to make the language of your tourist guide interactive and the to used language of your Wikipedia source.\n",
    "</div>"
   ]
  },
  {
   "cell_type": "code",
   "execution_count": null,
   "id": "39c833dd-8476-48a4-b03b-ba0ecc3d2a29",
   "metadata": {},
   "outputs": [],
   "source": [
    "from ipywidgets import interact_manual\n",
    "import ipywidgets as widgets\n",
    "from openai import OpenAI\n",
    "import wikipediaapi\n",
    "\n",
    "# Initialize OpenAI client\n",
    "client = OpenAI(base_url=\"https://chat-large.llm.mylab.th-luebeck.dev/v1\", api_key=\"-\")\n",
    "\n",
    "# Interactive function to translate text\n",
    "@interact_manual(\n",
    "    city=widgets.Text(value='Riga', description='City:', layout=widgets.Layout(width='75%'))\n",
    ")\n",
    "def translate(city):\n",
    "    wikipedia = wikipediaapi.Wikipedia('python-agent', 'en')\n",
    "    page = wikipedia.page(city)\n",
    "    print(f\"Downloaded {page.title}\")\n",
    "    \n",
    "    chat_completion = client.chat.completions.create(\n",
    "        messages=[\n",
    "           { \"role\": \"system\", \"content\": \"Summarize touristic facts from texts for English tourist guides.\" },\n",
    "           { \"role\": \"user\", \"content\": page.text[0:10000] }\n",
    "        ],\n",
    "        model=\"\", stream=True, max_tokens=1024\n",
    "    )\n",
    "    \n",
    "    print(\"Generating output:\")\n",
    "    for message in chat_completion:\n",
    "        if not message.choices[0].finish_reason:\n",
    "            print(message.choices[0].delta.content, end='')"
   ]
  },
  {
   "cell_type": "markdown",
   "id": "618743b2-fe1f-4e57-b5ce-8be6626b929f",
   "metadata": {},
   "source": [
    "Great. We hope this notebook has helped you to understand how language models work.\n",
    "If you have any questions, please do not hesitate to ask them. Our staff will see what we can do.\n",
    "\n",
    "<img src=\"https://mylab.th-luebeck.de/images/mylab-logo-without.png\" width=200px>"
   ]
  },
  {
   "cell_type": "code",
   "execution_count": null,
   "id": "f736c18a-ec2a-4df4-a221-9e5c13ee16c9",
   "metadata": {},
   "outputs": [],
   "source": []
  }
 ],
 "metadata": {
  "kernelspec": {
   "display_name": "Python 3 (ipykernel)",
   "language": "python",
   "name": "python3"
  },
  "language_info": {
   "codemirror_mode": {
    "name": "ipython",
    "version": 3
   },
   "file_extension": ".py",
   "mimetype": "text/x-python",
   "name": "python",
   "nbconvert_exporter": "python",
   "pygments_lexer": "ipython3",
   "version": "3.11.8"
  }
 },
 "nbformat": 4,
 "nbformat_minor": 5
}
